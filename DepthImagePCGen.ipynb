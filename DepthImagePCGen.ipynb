{
 "cells": [
  {
   "cell_type": "markdown",
   "metadata": {},
   "source": [
    "# Generating Point Cloud from depth image\n",
    "This notebook takes a depth image and converts it into a point cloud to display.\n",
    "\n",
    "First thing to do is import all needed libraries"
   ]
  },
  {
   "cell_type": "code",
   "execution_count": null,
   "metadata": {},
   "outputs": [],
   "source": [
    "%pip install imageio\n",
    "%pip install numpy\n",
    "%pip install matplotlib\n",
    "%pip install open3d"
   ]
  },
  {
   "cell_type": "code",
   "execution_count": null,
   "metadata": {},
   "outputs": [],
   "source": [
    "import imageio.v3 as iio\n",
    "import numpy as np\n",
    "import matplotlib.pyplot as plt\n",
    "import open3d as o3d\n",
    "import datetime"
   ]
  },
  {
   "cell_type": "markdown",
   "metadata": {},
   "source": [
    "### Preparing the data\n",
    "Next step is to define callibration data for the camera. This data is not perfect for our camera but it does the job for now."
   ]
  },
  {
   "cell_type": "code",
   "execution_count": null,
   "metadata": {},
   "outputs": [],
   "source": [
    "# Depth camera parameters:\n",
    "FX_DEPTH = 5.8262448167737955e+02\n",
    "FY_DEPTH = 5.8269103270988637e+02\n",
    "CX_DEPTH = 3.1304475870804731e+02\n",
    "CY_DEPTH = 2.3844389626620386e+02"
   ]
  },
  {
   "cell_type": "markdown",
   "metadata": {},
   "source": [
    "Reading the image is the next part. This takes the image in as a numpy array. After, we display some usefull data about the image array."
   ]
  },
  {
   "cell_type": "code",
   "execution_count": null,
   "metadata": {},
   "outputs": [],
   "source": [
    "# Open the image and display basic information\n",
    "depth_image = iio.imread(\"./images/png/depth/2023-11-09.16.22.35_depth_image.png\")\n",
    "\n",
    "print(f\"Image resolution: {depth_image.shape}\")\n",
    "print(f\"Data type: {depth_image.dtype}\")\n",
    "print(f\"Min value: {np.min(depth_image)}\")\n",
    "print(f\"Max value: {np.max(depth_image)}\")"
   ]
  },
  {
   "cell_type": "markdown",
   "metadata": {},
   "source": [
    "Next up is calculating the grayscale image that we will need to generate the pointcloud. For development and debugging reasons, this will exported to a png file as well."
   ]
  },
  {
   "cell_type": "code",
   "execution_count": null,
   "metadata": {},
   "outputs": [],
   "source": [
    "depth_grayscale = np.array(256 * depth_image / 0x0fff, dtype=np.uint8)\n",
    "iio.imwrite(f\"output/grayscale_{datetime.datetime.now().strftime('%Y%m%d_%H:%M:%S.%f')[:-3]}.png\", depth_grayscale)"
   ]
  },
  {
   "cell_type": "markdown",
   "metadata": {},
   "source": [
    "This cell is purely go show the depth image and the grayscale image next to each other. This is an easy way to quickly check if the grayscale image calculation was successfull."
   ]
  },
  {
   "cell_type": "code",
   "execution_count": null,
   "metadata": {},
   "outputs": [],
   "source": [
    "# Display depth and grayscale image:\n",
    "fig, axs = plt.subplots(1, 2)\n",
    "axs[0].imshow(depth_image, cmap=\"gray\")\n",
    "axs[0].set_title('Depth image')\n",
    "axs[1].imshow(depth_grayscale, cmap=\"gray\")\n",
    "axs[1].set_title('Depth grayscale image')\n",
    "plt.show()"
   ]
  },
  {
   "cell_type": "markdown",
   "metadata": {},
   "source": [
    "### Generating the point cloud\n",
    "Only two things left: generating the point cloud point coordinates and displaying the point cloud. The next cell does the first thing. It takes into account the callibration data defined earlier."
   ]
  },
  {
   "cell_type": "code",
   "execution_count": null,
   "metadata": {},
   "outputs": [],
   "source": [
    "# compute point cloud:\n",
    "pcd = []\n",
    "depth_image.shape\n",
    "height, width, index = depth_image.shape\n",
    "for i in range(height):\n",
    "    for j in range(width):\n",
    "        z = (depth_image[i][j])\n",
    "        x = ((j - CX_DEPTH) * z / FX_DEPTH)\n",
    "        y = ((i - CY_DEPTH) * z / FY_DEPTH)\n",
    "        pcd.append([x[0], y[0], z[0]])"
   ]
  },
  {
   "cell_type": "markdown",
   "metadata": {},
   "source": [
    "Last step: Generate and show the point cloud itself. This cell converts the array of point coordinates to a 3d vector type. This is drawn and visualised with the open3d module."
   ]
  },
  {
   "cell_type": "code",
   "execution_count": null,
   "metadata": {},
   "outputs": [],
   "source": [
    "pcd_o3d = o3d.geometry.PointCloud()  # create point cloud object\n",
    "pcd_o3d.points = o3d.utility.Vector3dVector(pcd)  # set pcd_np as the point cloud points\n",
    "# Visualize:\n",
    "o3d.visualization.draw_geometries([pcd_o3d])"
   ]
  }
 ],
 "metadata": {
  "kernelspec": {
   "display_name": "venv",
   "language": "python",
   "name": "python3"
  },
  "language_info": {
   "codemirror_mode": {
    "name": "ipython",
    "version": 3
   },
   "file_extension": ".py",
   "mimetype": "text/x-python",
   "name": "python",
   "nbconvert_exporter": "python",
   "pygments_lexer": "ipython3",
   "version": "3.9.6"
  }
 },
 "nbformat": 4,
 "nbformat_minor": 2
}
